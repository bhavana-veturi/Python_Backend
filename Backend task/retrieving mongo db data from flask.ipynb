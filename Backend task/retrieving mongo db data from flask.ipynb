{
 "cells": [
  {
   "cell_type": "code",
   "execution_count": 12,
   "metadata": {},
   "outputs": [],
   "source": [
    "from flask import Flask \n",
    "from flask_pymongo import PyMongo\n",
    "from bson.json_util import dumps"
   ]
  },
  {
   "cell_type": "code",
   "execution_count": 13,
   "metadata": {},
   "outputs": [
    {
     "name": "stdout",
     "output_type": "stream",
     "text": [
      " * Serving Flask app \"__main__\" (lazy loading)\n",
      " * Environment: production\n",
      "   WARNING: This is a development server. Do not use it in a production deployment.\n",
      "   Use a production WSGI server instead.\n",
      " * Debug mode: off\n"
     ]
    },
    {
     "name": "stderr",
     "output_type": "stream",
     "text": [
      " * Running on http://127.0.0.1:5000/ (Press CTRL+C to quit)\n",
      "127.0.0.1 - - [15/Sep/2020 18:25:26] \"\u001b[37mGET / HTTP/1.1\u001b[0m\" 200 -\n"
     ]
    },
    {
     "name": "stdout",
     "output_type": "stream",
     "text": [
      "[{\"_id\": {\"$oid\": \"5f5f5aa6751a82c302a50bf5\"}, \"name\": \"Harry Potter and the Order of the Phoenix\", \"img\": \"https://bit.ly/2IcnSwz\", \"summary\": \"Harry Potter and Dumbledore's warning about the return of Lord Voldemort is not heeded by the wizard authorities who, in turn, look to undermine Dumbledore's authority at Hogwarts and discredit Harry.\"}, {\"_id\": {\"$oid\": \"5f5f5ae4751a82c302a50bf6\"}, \"name\": \"The Lord of the Rings: The Fellowship of the Ring\", \"img\": \"https://bit.ly/2tC1Lcg\", \"summary\": \"A young hobbit, Frodo, who has found the One Ring that belongs to the Dark Lord Sauron, begins his journey with eight companions to Mount Doom, the only place where it can be destroyed.\"}, {\"_id\": {\"$oid\": \"5f5f5b11751a82c302a50bf7\"}, \"name\": \"Avengers: Endgame\", \"img\": \"https://bit.ly/2Pzczlb\", \"summary\": \"Adrift in space with no food or water, Tony Stark sends a message to Pepper Potts as his oxygen supply starts to dwindle. Meanwhile, the remaining Avengers -- Thor, Black Widow, Captain America and Bruce Banner -- must figure out a way to bring back their vanquished allies for an epic showdown with Thanos -- the evil demigod who decimated the planet and the universe.\"}]\n"
     ]
    }
   ],
   "source": [
    "app = Flask(__name__)\n",
    "app.config[\"MONGO_URI\"] = \"mongodb://localhost:27017/movies\"\n",
    "mongo = PyMongo(app)\n",
    "@app.route('/') \n",
    "def mongodata():\n",
    "    movies = mongo.db.movies.find()\n",
    "    out=dumps(movies)\n",
    "    print((out))\n",
    "    return out\n",
    "    \n",
    "if __name__ == \"__main__\":\n",
    "    app.run(debug=False)"
   ]
  },
  {
   "cell_type": "code",
   "execution_count": null,
   "metadata": {},
   "outputs": [],
   "source": []
  }
 ],
 "metadata": {
  "kernelspec": {
   "display_name": "Python 3",
   "language": "python",
   "name": "python3"
  },
  "language_info": {
   "codemirror_mode": {
    "name": "ipython",
    "version": 3
   },
   "file_extension": ".py",
   "mimetype": "text/x-python",
   "name": "python",
   "nbconvert_exporter": "python",
   "pygments_lexer": "ipython3",
   "version": "3.8.3"
  }
 },
 "nbformat": 4,
 "nbformat_minor": 4
}
